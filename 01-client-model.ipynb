{
 "cells": [
  {
   "cell_type": "code",
   "execution_count": 1,
   "metadata": {},
   "outputs": [
    {
     "name": "stdout",
     "output_type": "stream",
     "text": [
      "4/4 [==============================] - 0s 3ms/step - loss: 2.4518 - accuracy: 0.0800\n",
      "Dummy model saved as model_1.h5\n"
     ]
    }
   ],
   "source": [
    "# create_and_save_model.py\n",
    "from tensorflow import keras\n",
    "import numpy as np\n",
    "\n",
    "# Create a simple model for testing\n",
    "model = keras.models.Sequential([\n",
    "    keras.layers.Input(shape=(28, 28, 1)),\n",
    "    keras.layers.Conv2D(32, (3, 3), activation=\"relu\"),\n",
    "    keras.layers.Flatten(),\n",
    "    keras.layers.Dense(10, activation=\"softmax\")\n",
    "])\n",
    "\n",
    "model.compile(optimizer=\"adam\", loss=\"sparse_categorical_crossentropy\", metrics=[\"accuracy\"])\n",
    "\n",
    "# Dummy data to simulate training (optional)\n",
    "x_dummy = np.random.rand(100, 28, 28, 1)\n",
    "y_dummy = np.random.randint(0, 10, 100)\n",
    "model.fit(x_dummy, y_dummy, epochs=1)\n",
    "\n",
    "# Save the model as model_1.h5\n",
    "model.save(\"model_1.h5\")\n",
    "print(\"Dummy model saved as model_1.h5\")\n"
   ]
  }
 ],
 "metadata": {
  "kernelspec": {
   "display_name": "flwr-env",
   "language": "python",
   "name": "python3"
  },
  "language_info": {
   "codemirror_mode": {
    "name": "ipython",
    "version": 3
   },
   "file_extension": ".py",
   "mimetype": "text/x-python",
   "name": "python",
   "nbconvert_exporter": "python",
   "pygments_lexer": "ipython3",
   "version": "3.9.21"
  }
 },
 "nbformat": 4,
 "nbformat_minor": 2
}
